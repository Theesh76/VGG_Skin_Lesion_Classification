{
 "cells": [
  {
   "cell_type": "markdown",
   "metadata": {},
   "source": [
    "# Identifying Skin Lesions using Convolutional Neural Network\n",
    "\n",
    "\n",
    "**Problem Statement:** <br>\n",
    " Train a Neural Network to identify different skin lesions with the given subset of the HAM10000 dataset.\n"
   ]
  },
  {
   "cell_type": "markdown",
   "metadata": {},
   "source": [
    "## Human Against Machine 10000 (HAM10000) Study\n",
    "\n",
    "HAM10000 is a set of 10015 dermatoscopic images which comprises of different pigmented skin lesion. A subset of the HAM10000 dataset is provided to train a neural network to identify the skin lesions. The training and the test set has 997 images, 496 images of pigmented skin lesion respectively. These images belong to seven different pigment skin lesion categories, and they are as follows,\n",
    "\n",
    "1. Actinic keratoses and intraepithelial carcinoma / Bowen's disease - akiec\n",
    "2. basal cell carcinoma - bcc\n",
    "3. benign keratosis-like lesions (solar lentigines / seborrheic keratoses and lichen-planus like keratoses) - bkl\n",
    "4. dermatofibroma -df\n",
    "5. melanoma - mel\n",
    "6. melanocytic nevi - nv \n",
    "7. vascular lesions (angiomas, angiokeratomas, pyogenic granulomas and hemorrhage) - vasc\n"
   ]
  },
  {
   "cell_type": "markdown",
   "metadata": {},
   "source": [
    "Libraries used for the assignment is attached below:\n",
    "1. cv2 - Image processing\n",
    "2. json - To read the labels\n",
    "3. matplotlib - To visualize graphs\n",
    "4. sklearn, tensorflow and keras  -  Convolutonal Neural Networks\n",
    "5. json -  To read given labels\n",
    "6. glob -To read all the images in the directory\n",
    "\n",
    "Tensorflow 2.4\n",
    "<br>Python 3.8\n",
    "<br>CUDA Toolkit 11.0\n",
    "<br>CUDNN 8"
   ]
  },
  {
   "cell_type": "code",
   "execution_count": 1,
   "metadata": {},
   "outputs": [],
   "source": [
    "import cv2                \n",
    "import numpy as np             \n",
    "import glob    \n",
    "import json      \n",
    "import matplotlib.pyplot as plt\n",
    "from sklearn.model_selection import train_test_split\n",
    "from keras.preprocessing.image import ImageDataGenerator\n",
    "from keras import regularizers\n",
    "from tensorflow.keras.layers import Flatten,Dense,Dropout,BatchNormalization,Conv2D,MaxPooling2D\n",
    "from tensorflow.keras.models import Sequential\n",
    "from tensorflow.keras.metrics import Recall\n",
    "from tensorflow.keras.callbacks import EarlyStopping,ReduceLROnPlateau\n",
    "from sklearn.metrics import classification_report,confusion_matrix\n",
    "from tensorflow.keras.models import load_model\n",
    "import tensorflow as tf\n",
    "from keras.callbacks import EarlyStopping, ModelCheckpoint, ReduceLROnPlateau"
   ]
  },
  {
   "cell_type": "markdown",
   "metadata": {},
   "source": [
    "## Data Visualization"
   ]
  },
  {
   "cell_type": "code",
   "execution_count": 12,
   "metadata": {},
   "outputs": [
    {
     "name": "stdout",
     "output_type": "stream",
     "text": [
      "The Lables that needs to be classified: ['akiec' 'bcc' 'bkl' 'df' 'mel' 'nv' 'vasc']\n",
      "The training set comprises of:\n",
      "Actinic Keratoses and IntraEpithelial Carcinoma (akiec) - 30 images\n",
      "Basal Cell Carcinoma (bcc) - 43 images\n",
      "VASCular lesions (vasc) - 97 images\n",
      "DermatoFibroma (df) - 9 images\n",
      "MELanoma (mel) - 82 images\n",
      "melanocytic NeVi (nv) - 723 images\n",
      "VASCular lesions (vasc) - 13 images\n"
     ]
    },
    {
     "data": {
      "text/plain": [
       "Text(0, 0.5, 'Frequency of Skin Lesions')"
      ]
     },
     "execution_count": 12,
     "metadata": {},
     "output_type": "execute_result"
    },
    {
     "data": {
      "image/png": "[encoded data removed]",
      "text/plain": [
       "<Figure size 432x288 with 1 Axes>"
      ]
     },
     "metadata": {
      "needs_background": "light"
     },
     "output_type": "display_data"
    }
   ],
   "source": [
    "with open('train_labels.json') as f:\n",
    "    data = json.load(f)        \n",
    "data = list(data.items())\n",
    "labels = np.array(data)\n",
    "y = labels[:,1]\n",
    "labels_unique = np.unique(y, axis=0)  \n",
    "print(\"The Lables that needs to be classified:\",labels_unique)\n",
    "with open('train_labels.json') as f:\n",
    "    data = json.load(f)        \n",
    "data = list(data.items())\n",
    "labels = np.array(data)\n",
    "y = labels[:,1]\n",
    "labels, counts = np.unique(y,return_counts=True) \n",
    "ticks = range(len(counts))\n",
    "\n",
    "print(\"The training set comprises of:\")\n",
    "for i in range(len(counts)):\n",
    "    if labels[i] == 'bcc':\n",
    "        print(\"Basal Cell Carcinoma (bcc) -\",counts[i],\"images\")\n",
    "    elif labels[i] == 'akiec':\n",
    "        print(\"Actinic Keratoses and IntraEpithelial Carcinoma (akiec) -\",counts[i],\"images\")\n",
    "    elif labels[i] == 'df':\n",
    "        print(\"DermatoFibroma (df) -\",counts[i],\"images\")\n",
    "    elif labels[i] == 'mel':\n",
    "        print(\"MELanoma (mel) -\",counts[i],\"images\")\n",
    "    elif labels[i] == 'nv':\n",
    "        print(\"melanocytic NeVi (nv) -\",counts[i],\"images\")\n",
    "    else:\n",
    "        print(\"VASCular lesions (vasc) -\",counts[i],\"images\")\n",
    "plt.bar(ticks,counts, align='center')\n",
    "plt.xticks(ticks, labels)\n",
    "plt.title('Data Visulaization of Training Set')\n",
    "plt.xlabel('Different types of Skin Lesions')\n",
    "plt.ylabel('Frequency of Skin Lesions')\n"
   ]
  },
  {
   "cell_type": "markdown",
   "metadata": {},
   "source": [
    "The following inference can be drawn from the data analysis of the train set.\n",
    "1. There are seven unique labels that needs to be classified. \n",
    "2. The distribution of data among the seven categories is unbalanced.\n",
    "3. It is clearly visible that the label nv comprises 3/4th of the dataset. \n",
    "4. There is less data in the categories df and vasc.\n",
    "5. It is a possiblity that the melanocytic Nevi is the most commonly occuring skin disorder in the humans or it can be also be due to the fact that it is easily detectable skin disorder. Hence, it could be possible reason for data abundance in this particular class.\n",
    "6. A contrast reasoning can be applied for the data class df, vasc for its low number.\n",
    "\n",
    "**Effect of unbalnced data on the Neural network model:**\n",
    "<br>The equal number of data in all the classes is required for training the neural network to perform multi-label classification. However, if the above data is to be used to train a neural network model, the model will fail to classify the labels df,nv especially as it has less data. \n",
    "\n",
    "Methods to overcome the unbalanced data:\n",
    "1. Undersampling -  The data is reduced from the class that has more data in this method. This method makes the model more sensitive to the class that has less data. Eventhough, it helps in improving the multi-class classification accuracy but there is loss of valubale data in the majority class. \n",
    "2. Oversampling - The data is generated for the classes that has low data. It makes the training dataset more balanced. However, the main problem with this method is that it can lead to overfitting the training set. \n",
    " \n",
    "In this assignment, the data is generated to balance the training set. Measures will be taken to prevent the overfitting by using dropouts in the neural network model. \n"
   ]
  },
  {
   "cell_type": "markdown",
   "metadata": {},
   "source": [
    "## Data Preparation - Data Sorting by Folder\n",
    "The training data is mixed with images of different class. The below code will arrange the images to the corresponding labels in the Data Analysis folder.  "
   ]
  },
  {
   "cell_type": "code",
   "execution_count": null,
   "metadata": {},
   "outputs": [],
   "source": [
    "images = []\n",
    "image_paths = glob.glob( 'train/*.jpg' )\n",
    "i=0\n",
    "k1=k2=k3=k4=k5=k6=k7=0\n",
    "for imagefile in image_paths:\n",
    "    image = cv2.imread(imagefile)\n",
    "    if y[i] == 'bcc':\n",
    "        loc = 'Data_Analysis/bcc/' + str(k1) + '.jpg'\n",
    "        cv2.imwrite(loc,image)\n",
    "        k1 = k1 + 1\n",
    "    elif y[i] == 'akiec':\n",
    "        loc = 'Data_Analysis/akiec/' + str(k2) + '.jpg'\n",
    "        cv2.imwrite(loc,image)\n",
    "        k2 = k2 + 1\n",
    "    elif y[i] == 'df':\n",
    "        loc = 'Data_Analysis/df/' + str(k3) + '.jpg'\n",
    "        cv2.imwrite(loc,image)\n",
    "        k3 = k3 + 1\n",
    "    elif y[i] == 'mel':\n",
    "        loc = 'Data_Analysis/mel/' + str(k4) + '.jpg'\n",
    "        cv2.imwrite(loc,image)\n",
    "        k4 = k4 + 1\n",
    "    elif y[i] == 'nv':\n",
    "        loc = 'Data_Analysis/nv/' + str(k5) + '.jpg'\n",
    "        cv2.imwrite(loc,image)\n",
    "        k5 = k5 + 1\n",
    "    elif y[i] == 'bkl':\n",
    "        loc = 'Data_Analysis/bkl/' + str(k6) + '.jpg'\n",
    "        cv2.imwrite(loc,image)\n",
    "        k6 = k6 + 1\n",
    "    else:\n",
    "        loc = 'Data_Analysis/vasc/' + str(k7) + '.jpg'\n",
    "        cv2.imwrite(loc,image)\n",
    "        k7 = k7 + 1\n",
    "    i = i+1    "
   ]
  },
  {
   "cell_type": "markdown",
   "id": "761552fa",
   "metadata": {},
   "source": [
    "## Data Augmentation\n",
    " ImageDataGenerator can generate batches of tensor image data. It can modify the original image by\n",
    " 1. rotation_range - How much image can be rotataed\n",
    " 2. shift in the width - 0.05 $\\times$ width of the image - 0.05$\\times$ 600 - 30px max shift allowed \n",
    " 3. shift in the height - 0.05$\\times$ height of the image - 0.05$\\times$ 450 - 22px max shift allowed\n",
    " 4. sheer was not used - shape of moles can cahnge by shear transformation\n",
    " 5. rescale - 1/255 - (0-1) range for LR\n",
    " 6. zoom range - 0.1 Random zooming in the image\n",
    " 7. horizontal_flip - Randomly flipping half of the images horizontally \n",
    " 8. fill_mode - Fills the newly created pixel\n",
    " \n",
    "and can generate a new image. Using this method, many combinations of single image in all the classes were generated. "
   ]
  },
  {
   "cell_type": "code",
   "execution_count": null,
   "id": "b4b36241",
   "metadata": {},
   "outputs": [],
   "source": [
    "datagen = ImageDataGenerator(rotation_range=10, \n",
    "                               width_shift_range=0.05, \n",
    "                               height_shift_range=0.05, \n",
    "                               rescale=1/255,  \n",
    "                               zoom_range=0.1, \n",
    "                               horizontal_flip=True,\n",
    "                               vertical_flip=True,\n",
    "                               fill_mode='nearest')\n",
    "CATEGORIES = [\"akiec\", \"bcc\", \"bkl\", \"df\", \"mel\", \"nv\", \"vasc\"]\n",
    "label = np.zeros((1,7))\n",
    "for category in CATEGORIES:\n",
    "    image_paths = glob.glob( 'Data_Analysis/'+category+'/*.jpg' )  \n",
    "    for imagefile in image_paths:\n",
    "        image = cv2.imread(imagefile)\n",
    "        x = np.asarray(image)\n",
    "        x = x.reshape((1,) + x.shape)  \n",
    "        i = 0\n",
    "        for batch in datagen.flow(x, batch_size=1,save_to_dir='Data_Analysis/'+category, save_prefix='aug', save_format='jpg'):\n",
    "            if category=='akiec' and i > 25:\n",
    "                break \n",
    "            elif category=='bcc' and i > 15:\n",
    "                break \n",
    "            elif category=='bkl' and i > 6:\n",
    "                break \n",
    "            elif category=='df' and i > 85:\n",
    "                break \n",
    "            elif category=='mel' and i > 7:\n",
    "                break \n",
    "            elif category=='vasc' and i >55:\n",
    "                break \n",
    "            elif category=='nv':\n",
    "                break\n",
    "            else:\n",
    "                i += 1"
   ]
  },
  {
   "cell_type": "markdown",
   "id": "a5cc46dc",
   "metadata": {},
   "source": [
    "## Training and Validation data\n",
    "Due to computation complexity, the image data is reduced to 128$\\times$128 pixels. By doing so, the shape of the skin lesion may look different in the training samples. "
   ]
  },
  {
   "cell_type": "code",
   "execution_count": null,
   "id": "6b57f6fd",
   "metadata": {},
   "outputs": [],
   "source": [
    "images = []\n",
    "y = []\n",
    "CATEGORIES = [\"akiec\", \"bcc\", \"bkl\", \"df\", \"mel\", \"nv\", \"vasc\"]\n",
    "label = np.zeros((1,7))\n",
    "for category in CATEGORIES:\n",
    "    class_num = CATEGORIES.index(category)\n",
    "    label[0,class_num] = 1\n",
    "    image_paths = glob.glob( 'Data_Analysis/'+category+ '/*.jpg' )\n",
    "    for imagefile in image_paths:\n",
    "        img  = cv2.imread(imagefile)\n",
    "        img = cv2.resize(img,(128,128), interpolation = cv2.INTER_LINEAR)\n",
    "        h,w,d = img.shape\n",
    "        img = img/255 # Convert to 0-1 range\n",
    "        images.append(img)\n",
    "        y.append(label)\n",
    "    label = np.zeros((1,7))\n",
    "    \n",
    "x = np.array(images)\n",
    "x1=x.reshape(-1,h,w,d) \n",
    "y = np.array(y)\n",
    "y=y.reshape(len(y),7) \n",
    "train_img,test_img,train_label,test_label = train_test_split(x,y,test_size=0.25,random_state=42)"
   ]
  },
  {
   "cell_type": "markdown",
   "id": "8158cd2e",
   "metadata": {},
   "source": [
    "# Convolutional Neural Netwroks\n",
    "A convolutional neural network (CNN) can recognize patterns such as edges (vertical/horizontal), shapes, colours, and textures. Generally, a skin lesions are determined by its size, irregular edges, color, itchiness, location at where it occurs at the body. Drawbacks of using the given set and CNN \n",
    "1. Due to decraese in the resolution of training images, it is susceptible to change in the shape of the skin leasion.  \n",
    "2. Size of the mole cannot be determined by the CNN. The 3rd dimesnion data is missing.\n",
    "3. Data of location of the mole in the body is also missing.\n",
    "\n",
    "Hence, using cnn to classify the given label is challenging and will not be 100% accurate.\n",
    "\n",
    "\n",
    "It is known that when the images go through more layers, the model learns sophisticated patterns. I was restrained from adding more layers to the network given the configuration of my laptop. Dropouts were added to decrease the overfitting of the model."
   ]
  },
  {
   "cell_type": "code",
   "execution_count": null,
   "id": "a7498661",
   "metadata": {},
   "outputs": [],
   "source": [
    "input_shape=(h,w,d)\n",
    "\n",
    "model=Sequential()\n",
    "\n",
    "\n",
    "model.add(Conv2D(64,(2,2),input_shape=input_shape,activation='relu'))\n",
    "model.add(Conv2D(64,(2,2),input_shape=input_shape,activation='relu'))\n",
    "model.add(MaxPooling2D(pool_size=(2, 2)))\n",
    "model.add(BatchNormalization())\n",
    "\n",
    "\n",
    "model.add(Conv2D(128,(2,2),input_shape=input_shape,activation='relu'))\n",
    "model.add(Conv2D(128,(2,2),input_shape=input_shape,activation='relu'))\n",
    "model.add(MaxPooling2D(pool_size=(2, 2)))\n",
    "\n",
    "model.add(Dropout(0.3))\n",
    "\n",
    "model.add(Conv2D(256,(2,2),input_shape=input_shape,activation='relu'))\n",
    "model.add(Conv2D(256,(2,2),input_shape=input_shape,activation='relu'))\n",
    "model.add(Conv2D(256,(2,2),input_shape=input_shape,activation='relu'))\n",
    "model.add(MaxPooling2D(pool_size=(2, 2)))\n",
    "\n",
    "model.add(Conv2D(512,(2,2),input_shape=input_shape,activation='relu'))\n",
    "model.add(Conv2D(512,(2,2),input_shape=input_shape,activation='relu'))\n",
    "model.add(Conv2D(512,(2,2),input_shape=input_shape,activation='relu'))\n",
    "model.add(MaxPooling2D(pool_size=(2, 2)))\n",
    "model.add(BatchNormalization())\n",
    "\n",
    "\n",
    "model.add(Dropout(0.4))\n",
    "\n",
    "model.add(Flatten())\n",
    "\n",
    "model.add(Dense(1024,activation='relu',kernel_regularizer=regularizers.l2(0.01)))\n",
    "model.add(Dropout(0.5))\n",
    "\n",
    "model.add(Dense(64,activation='relu',kernel_regularizer=regularizers.l2(0.01)))\n",
    "model.add(Dropout(0.5))\n",
    "\n",
    "model.add(Dense(7,activation='softmax'))\n",
    "\n",
    "model.compile(optimizer='adam',loss='categorical_crossentropy',metrics=['accuracy',Recall()])\n",
    "\n",
    "\n",
    "model.summary()"
   ]
  },
  {
   "cell_type": "markdown",
   "id": "dd0581a3",
   "metadata": {},
   "source": [
    "## Training the Model"
   ]
  },
  {
   "cell_type": "markdown",
   "id": "fadd37e4",
   "metadata": {},
   "source": [
    "The batch size is 25 becomes of insuffcient memory. Different epochs 50,78 and 500 were taken."
   ]
  },
  {
   "cell_type": "code",
   "execution_count": null,
   "id": "eff7eaf0",
   "metadata": {},
   "outputs": [],
   "source": [
    "hist = model.fit(train_img,train_label,epochs=500,batch_size=25,validation_data=(test_img, test_label))\n",
    "plt.plot(hist.history['loss'])\n",
    "plt.plot(hist.history['val_loss'])\n",
    "plt.legend(['loss', 'val_loss'])\n",
    "plt.show()\n",
    "plt.plot(hist.history['accuracy'])\n",
    "plt.plot(hist.history['val_accuracy'])\n",
    "plt.legend(['accuracy', 'val_accuracy'])\n",
    "plt.show()\n",
    "model.save( '3_128_128_250.h5')"
   ]
  },
  {
   "cell_type": "markdown",
   "id": "16328111",
   "metadata": {},
   "source": [
    "There are three model trained \n",
    "1. 2_128_128.h5 - Ran 50 epochs\n",
    "2. 3_128_128_78.h5 - Ran 78 epochs\n",
    "3. 4_128_128_500.h5 - Ran 500 epochs\n",
    "**As the labels of the test data was not given, please try all the models.** The training loss of the 3_128_128_78.h5 and 4_128_128_500.h5 is plotted below.\n",
    "\n",
    "### 3_128_128_78.h5 Model Loss Curve\n",
    "<img src=\"Figure_1.png\">\n",
    "\n",
    "### 4_128_128_500.h5  Model Loss Curve\n",
    "<img src=\"Figure_3.png\">\n",
    "\n",
    "\n"
   ]
  },
  {
   "cell_type": "markdown",
   "id": "147857bb",
   "metadata": {},
   "source": [
    "## Inference\n",
    " Convert the test images to 128$\\times$128 resolution for inference.\n",
    " "
   ]
  },
  {
   "cell_type": "code",
   "execution_count": null,
   "id": "83259dad",
   "metadata": {},
   "outputs": [],
   "source": [
    "test_labels = []\n",
    "model = load_model('2_128_128.h5')\n",
    "image_paths = glob.glob( 'test/*.jpg' )\n",
    "for imagefile in image_paths:\n",
    "    img  = cv2.imread(imagefile)\n",
    "    img = cv2.resize(img,(128,128), interpolation = cv2.INTER_LINEAR)\n",
    "    img = img/255\n",
    "    np_final = np.expand_dims(img,axis=0)\n",
    "    pred = model.predict(np_final)\n",
    "    index = np.argmax(pred[0,:])\n",
    "    if index == 0:\n",
    "        labs = \"akiec\"\n",
    "    elif index == 1:\n",
    "        labs = \"bcc\"\n",
    "    elif index == 2:\n",
    "        labs = \"bkl\"\n",
    "    elif index == 3:\n",
    "        labs = \"df\"\n",
    "    elif index == 4:\n",
    "        labs = \"mel\"\n",
    "    elif index == 5:\n",
    "        labs = \"nv\"\n",
    "    else:\n",
    "        labs = \"vasc\"\n",
    "    test_labels.append(labs)"
   ]
  },
  {
   "cell_type": "markdown",
   "id": "73c3981e",
   "metadata": {},
   "source": [
    "## Future Work - How you would solve this problem if there was more time and computational power?\n",
    "\n",
    "More Time:\n",
    "1. Underfitting - Try training the model by underfitting the data. It is believed that it improves the classification accuracy.\n",
    "2. Do a literature survey if there are other ways to tackle the unbalanced dataset problem.\n",
    "3. As mentioned  before, a comphrehensive study of which architecture to use should be done.\n",
    "4. Data cleaning - Duplicate images were not checked. \n",
    "5. **A detailed study of all skin disorders and its characteristics.**\n",
    "6. Tuning the parameters. \n",
    "\n",
    "More Computation Power:\n",
    "1. Training with deeper neural networks. When the network is deeper, more is the parameter to be trained and the more computation power required.\n",
    "2. Training the neural network with the full image resolution preserving its artifacts."
   ]
  },
  {
   "cell_type": "code",
   "execution_count": null,
   "id": "647139fb",
   "metadata": {},
   "outputs": [],
   "source": []
  }
 ],
 "metadata": {
  "kernelspec": {
   "display_name": "Python 3",
   "language": "python",
   "name": "python3"
  },
  "language_info": {
   "codemirror_mode": {
    "name": "ipython",
    "version": 3
   },
   "file_extension": ".py",
   "mimetype": "text/x-python",
   "name": "python",
   "nbconvert_exporter": "python",
   "pygments_lexer": "ipython3",
   "version": "3.8.5"
  }
 },
 "nbformat": 4,
 "nbformat_minor": 5
}
